{
 "cells": [
  {
   "cell_type": "code",
   "execution_count": 36,
   "metadata": {},
   "outputs": [],
   "source": [
    "from pathlib import Path\n",
    "import librosa\n",
    "import torch\n",
    "from argparse import ArgumentParser\n",
    "import matplotlib\n",
    "import h5py\n",
    "import tqdm\n",
    "from IPython.display import Audio, display\n",
    "\n",
    "import sys\n",
    "sys.path += ['../src']\n",
    "\n",
    "import utils\n",
    "import wavenet_models\n",
    "from utils import save_audio\n",
    "from wavenet import WaveNet\n",
    "from wavenet_generator import WavenetGenerator\n",
    "from nv_wavenet_generator import NVWavenetGenerator"
   ]
  },
  {
   "cell_type": "code",
   "execution_count": 37,
   "metadata": {},
   "outputs": [
    {
     "name": "stdout",
     "output_type": "stream",
     "text": [
      "[WindowsPath('test.wav')]\n",
      "test.wav\n"
     ]
    }
   ],
   "source": [
    "# Inference params\n",
    "checkpoint = Path('../checkpoints/pretrained_musicnet/lastmodel')\n",
    "decoders = [0, 1, 2, 3, 4, 5]\n",
    "batch_size = 1\n",
    "rate = 16000\n",
    "split_size = 20\n",
    "file_paths = [Path('test.wav')]\n",
    "print(file_paths)\n",
    "for file in file_paths:\n",
    "    print(file)"
   ]
  },
  {
   "cell_type": "code",
   "execution_count": 38,
   "metadata": {},
   "outputs": [],
   "source": [
    "def disp(x, decoder_ix):\n",
    "    wav = utils.inv_mu_law(x.cpu().numpy())\n",
    "    print(f'Decoder: {decoder_ix}')\n",
    "    print(f'X min: {x.min()}, max: {x.max()}')\n",
    "\n",
    "    display(Audio(wav.squeeze(), rate=rate))\n",
    "        \n",
    "def extract_id(path):\n",
    "    decoder_id = str(path)[:-4].split('_')[-1]\n",
    "    return int(decoder_id)"
   ]
  },
  {
   "cell_type": "code",
   "execution_count": 39,
   "metadata": {},
   "outputs": [],
   "source": [
    "class args:\n",
    "    def __init__(self):\n",
    "        self.latent_d = 64    # 名称\n",
    "        self.repeat_num = 6     # 尺寸\n",
    "        self.encoder_channels = 128     # 列表\n",
    "        self.encoder_blocks= 3\n",
    "        self.encoder_pool =  800,\n",
    "        self.encoder_final_kernel_size =  1\n",
    "        self.encoder_layers =  10\n",
    "        self.encoder_func = 'relu' \n",
    "        self.blocks= 4\n",
    "        self.layers = 14  \n",
    "        self.kernel_size =  2 \n",
    "        self.skip_channels =  128 \n",
    "        self.residual_channels =  128  \n",
    "        self.classes =  256\n",
    "model_args =args() # 定义结构对象"
   ]
  },
  {
   "cell_type": "code",
   "execution_count": 40,
   "metadata": {},
   "outputs": [
    {
     "name": "stdout",
     "output_type": "stream",
     "text": [
      "Starting\n",
      "..\\checkpoints\\pretrained_musicnet\\args.pth\n"
     ]
    }
   ],
   "source": [
    "import torch.nn as nn\n",
    "\n",
    "print('Starting')\n",
    "matplotlib.use('agg')\n",
    "\n",
    "checkpoints = checkpoint.parent.glob(checkpoint.name + '_*.pth')\n",
    "checkpoints = [c for c in checkpoints if extract_id(c) in decoders]\n",
    "assert len(checkpoints) >= 1, \"No checkpoints found.\"\n",
    "\n",
    "print(checkpoint.parent / 'args.pth')\n",
    "#model_args = torch.load(checkpoint.parent / 'args.pth')[0]\n",
    "encoder = wavenet_models.Encoder(model_args)\n",
    "encoder.load_state_dict(torch.load(checkpoints[0])['encoder_state'])\n",
    "encoder.eval()\n",
    "encoder = encoder.cuda()\n",
    "\n",
    "decoders = []\n",
    "decoder_ids = []\n",
    "for checkpoint in checkpoints:\n",
    "    decoder = WaveNet(model_args)\n",
    "    #decoder = nn.DataParallel(decoder)\n",
    "    checkpoint_state = torch.load(checkpoint)['decoder_state']\n",
    "    #pop_list = [\"layers.40.causal.weight\", \"layers.40.causal.bias\", \"layers.40.condition.weight\", \"layers.40.condition.bias\", \"layers.40.residual.weight\", \"layers.40.residual.bias\", \"layers.40.skip.weight\", \"layers.40.skip.bias\", \"layers.41.causal.weight\", \"layers.41.causal.bias\", \"layers.41.condition.weight\", \"layers.41.condition.bias\", \"layers.41.residual.weight\", \"layers.41.residual.bias\", \"layers.41.skip.weight\", \"layers.41.skip.bias\", \"layers.42.causal.weight\", \"layers.42.causal.bias\", \"layers.42.condition.weight\", \"layers.42.condition.bias\", \"layers.42.residual.weight\", \"layers.42.residual.bias\", \"layers.42.skip.weight\", \"layers.42.skip.bias\", \"layers.43.causal.weight\", \"layers.43.causal.bias\", \"layers.43.condition.weight\", \"layers.43.condition.bias\", \"layers.43.residual.weight\", \"layers.43.residual.bias\", \"layers.43.skip.weight\", \"layers.43.skip.bias\", \"layers.44.causal.weight\", \"layers.44.causal.bias\", \"layers.44.condition.weight\", \"layers.44.condition.bias\", \"layers.44.residual.weight\", \"layers.44.residual.bias\", \"layers.44.skip.weight\", \"layers.44.skip.bias\", \"layers.45.causal.weight\", \"layers.45.causal.bias\", \"layers.45.condition.weight\", \"layers.45.condition.bias\", \"layers.45.residual.weight\", \"layers.45.residual.bias\", \"layers.45.skip.weight\", \"layers.45.skip.bias\", \"layers.46.causal.weight\", \"layers.46.causal.bias\", \"layers.46.condition.weight\", \"layers.46.condition.bias\", \"layers.46.residual.weight\", \"layers.46.residual.bias\", \"layers.46.skip.weight\", \"layers.46.skip.bias\", \"layers.47.causal.weight\", \"layers.47.causal.bias\", \"layers.47.condition.weight\", \"layers.47.condition.bias\", \"layers.47.residual.weight\", \"layers.47.residual.bias\", \"layers.47.skip.weight\", \"layers.47.skip.bias\", \"layers.48.causal.weight\", \"layers.48.causal.bias\", \"layers.48.condition.weight\", \"layers.48.condition.bias\", \"layers.48.residual.weight\", \"layers.48.residual.bias\", \"layers.48.skip.weight\", \"layers.48.skip.bias\", \"layers.49.causal.weight\", \"layers.49.causal.bias\", \"layers.49.condition.weight\", \"layers.49.condition.bias\", \"layers.49.residual.weight\", \"layers.49.residual.bias\", \"layers.49.skip.weight\", \"layers.49.skip.bias\", \"layers.50.causal.weight\", \"layers.50.causal.bias\", \"layers.50.condition.weight\", \"layers.50.condition.bias\", \"layers.50.residual.weight\", \"layers.50.residual.bias\", \"layers.50.skip.weight\", \"layers.50.skip.bias\", \"layers.51.causal.weight\", \"layers.51.causal.bias\", \"layers.51.condition.weight\", \"layers.51.condition.bias\", \"layers.51.residual.weight\", \"layers.51.residual.bias\", \"layers.51.skip.weight\", \"layers.51.skip.bias\", \"layers.52.causal.weight\", \"layers.52.causal.bias\", \"layers.52.condition.weight\", \"layers.52.condition.bias\", \"layers.52.residual.weight\", \"layers.52.residual.bias\", \"layers.52.skip.weight\", \"layers.52.skip.bias\", \"layers.53.causal.weight\", \"layers.53.causal.bias\", \"layers.53.condition.weight\", \"layers.53.condition.bias\", \"layers.53.residual.weight\", \"layers.53.residual.bias\", \"layers.53.skip.weight\", \"layers.53.skip.bias\", \"layers.54.causal.weight\", \"layers.54.causal.bias\", \"layers.54.condition.weight\", \"layers.54.condition.bias\", \"layers.54.residual.weight\", \"layers.54.residual.bias\", \"layers.54.skip.weight\", \"layers.54.skip.bias\", \"layers.55.causal.weight\", \"layers.55.causal.bias\", \"layers.55.condition.weight\", \"layers.55.condition.bias\", \"layers.55.residual.weight\", \"layers.55.residual.bias\", \"layers.55.skip.weight\", \"layers.55.skip.bias\"]\n",
    "    #for items in pop_list:\n",
    "      #  checkpoint_state.pop(items)\n",
    "    #checkpoint_state.pop(list([\"layers.40.causal.weight\", \"layers.40.causal.bias\", \"layers.40.condition.weight\", \"layers.40.condition.bias\", \"layers.40.residual.weight\", \"layers.40.residual.bias\", \"layers.40.skip.weight\", \"layers.40.skip.bias\", \"layers.41.causal.weight\", \"layers.41.causal.bias\", \"layers.41.condition.weight\", \"layers.41.condition.bias\", \"layers.41.residual.weight\", \"layers.41.residual.bias\", \"layers.41.skip.weight\", \"layers.41.skip.bias\", \"layers.42.causal.weight\", \"layers.42.causal.bias\", \"layers.42.condition.weight\", \"layers.42.condition.bias\", \"layers.42.residual.weight\", \"layers.42.residual.bias\", \"layers.42.skip.weight\", \"layers.42.skip.bias\", \"layers.43.causal.weight\", \"layers.43.causal.bias\", \"layers.43.condition.weight\", \"layers.43.condition.bias\", \"layers.43.residual.weight\", \"layers.43.residual.bias\", \"layers.43.skip.weight\", \"layers.43.skip.bias\", \"layers.44.causal.weight\", \"layers.44.causal.bias\", \"layers.44.condition.weight\", \"layers.44.condition.bias\", \"layers.44.residual.weight\", \"layers.44.residual.bias\", \"layers.44.skip.weight\", \"layers.44.skip.bias\", \"layers.45.causal.weight\", \"layers.45.causal.bias\", \"layers.45.condition.weight\", \"layers.45.condition.bias\", \"layers.45.residual.weight\", \"layers.45.residual.bias\", \"layers.45.skip.weight\", \"layers.45.skip.bias\", \"layers.46.causal.weight\", \"layers.46.causal.bias\", \"layers.46.condition.weight\", \"layers.46.condition.bias\", \"layers.46.residual.weight\", \"layers.46.residual.bias\", \"layers.46.skip.weight\", \"layers.46.skip.bias\", \"layers.47.causal.weight\", \"layers.47.causal.bias\", \"layers.47.condition.weight\", \"layers.47.condition.bias\", \"layers.47.residual.weight\", \"layers.47.residual.bias\", \"layers.47.skip.weight\", \"layers.47.skip.bias\", \"layers.48.causal.weight\", \"layers.48.causal.bias\", \"layers.48.condition.weight\", \"layers.48.condition.bias\", \"layers.48.residual.weight\", \"layers.48.residual.bias\", \"layers.48.skip.weight\", \"layers.48.skip.bias\", \"layers.49.causal.weight\", \"layers.49.causal.bias\", \"layers.49.condition.weight\", \"layers.49.condition.bias\", \"layers.49.residual.weight\", \"layers.49.residual.bias\", \"layers.49.skip.weight\", \"layers.49.skip.bias\", \"layers.50.causal.weight\", \"layers.50.causal.bias\", \"layers.50.condition.weight\", \"layers.50.condition.bias\", \"layers.50.residual.weight\", \"layers.50.residual.bias\", \"layers.50.skip.weight\", \"layers.50.skip.bias\", \"layers.51.causal.weight\", \"layers.51.causal.bias\", \"layers.51.condition.weight\", \"layers.51.condition.bias\", \"layers.51.residual.weight\", \"layers.51.residual.bias\", \"layers.51.skip.weight\", \"layers.51.skip.bias\", \"layers.52.causal.weight\", \"layers.52.causal.bias\", \"layers.52.condition.weight\", \"layers.52.condition.bias\", \"layers.52.residual.weight\", \"layers.52.residual.bias\", \"layers.52.skip.weight\", \"layers.52.skip.bias\", \"layers.53.causal.weight\", \"layers.53.causal.bias\", \"layers.53.condition.weight\", \"layers.53.condition.bias\", \"layers.53.residual.weight\", \"layers.53.residual.bias\", \"layers.53.skip.weight\", \"layers.53.skip.bias\", \"layers.54.causal.weight\", \"layers.54.causal.bias\", \"layers.54.condition.weight\", \"layers.54.condition.bias\", \"layers.54.residual.weight\", \"layers.54.residual.bias\", \"layers.54.skip.weight\", \"layers.54.skip.bias\", \"layers.55.causal.weight\", \"layers.55.causal.bias\", \"layers.55.condition.weight\", \"layers.55.condition.bias\", \"layers.55.residual.weight\", \"layers.55.residual.bias\", \"layers.55.skip.weight\", \"layers.55.skip.bias\"]))\n",
    "    #decoder.load_state_dict(torch.load(checkpoint)['decoder_state'])\n",
    "    decoder.load_state_dict(checkpoint_state)\n",
    "    decoder.eval()\n",
    "    decoder = decoder.cuda()\n",
    "    decoder = WavenetGenerator(decoder, 1, wav_freq=16000)\n",
    "\n",
    "    decoders += [decoder]\n",
    "    decoder_ids += [extract_id(checkpoint)]"
   ]
  },
  {
   "cell_type": "code",
   "execution_count": 41,
   "metadata": {},
   "outputs": [
    {
     "name": "stdout",
     "output_type": "stream",
     "text": [
      "tensor([[[100., 102., 101.,  ..., 129., 129., 131.]]], device='cuda:0')\n",
      "xs size: torch.Size([1, 1, 80000])\n"
     ]
    }
   ],
   "source": [
    "xs = []\n",
    "file_paths_gen = [Path('test.wav')]\n",
    "for file_path in file_paths:\n",
    "    data, rate = librosa.load(file_path, sr=16000)\n",
    "    assert rate == 16000\n",
    "    data = utils.mu_law(data)\n",
    "    xs.append(torch.tensor(data).unsqueeze(0).float().cuda())\n",
    "\n",
    "xs = torch.stack(xs).contiguous()\n",
    "print(xs)\n",
    "print(f'xs size: {xs.size()}')"
   ]
  },
  {
   "cell_type": "code",
   "execution_count": 42,
   "metadata": {},
   "outputs": [
    {
     "name": "stdout",
     "output_type": "stream",
     "text": [
      "[100 102 101 ... 129 129 131]\n",
      "xs size: torch.Size([1, 1, 80000])\n"
     ]
    }
   ],
   "source": [
    "xs = []\n",
    "\n",
    "for file_path in file_paths:\n",
    "    data, rate = librosa.load(file_path, sr=16000)\n",
    "    assert rate == 16000\n",
    "    data = utils.mu_law(data)\n",
    "    print(data)\n",
    "    xs.append(torch.tensor(data).unsqueeze(0).float().cuda())\n",
    "\n",
    "xs = torch.stack(xs).contiguous()\n",
    "print(f'xs size: {xs.size()}')"
   ]
  },
  {
   "cell_type": "code",
   "execution_count": null,
   "metadata": {
    "scrolled": true
   },
   "outputs": [],
   "source": [
    "yy = {}\n",
    "with torch.no_grad():\n",
    "    zz = []\n",
    "    for xs_batch in torch.split(xs, batch_size):\n",
    "        zz += [encoder(xs_batch)]\n",
    "    zz = torch.cat(zz, dim=0)\n",
    "\n",
    "    with utils.timeit(\"Generation timer\"):\n",
    "        for i, decoder_id in enumerate(decoder_ids):\n",
    "            yy[decoder_id] = []\n",
    "            decoder = decoders[i]\n",
    "            for zz_batch in torch.split(zz, batch_size):\n",
    "                print(zz_batch.shape)\n",
    "                splits = torch.split(zz_batch, split_size, -1)\n",
    "                audio_data = []\n",
    "                decoder.reset()\n",
    "                for cond in tqdm.tqdm_notebook(splits):\n",
    "                    audio_data += [decoder.generate(cond).cuda()]\n",
    "                    print(decoder.generate(cond).cuda().shape)\n",
    "                audio_data = torch.cat(audio_data, -1)\n",
    "                yy[decoder_id] += [audio_data]\n",
    "                \n",
    "            yy[decoder_id] = torch.cat(yy[decoder_id], dim=0)"
   ]
  },
  {
   "cell_type": "code",
   "execution_count": 35,
   "metadata": {
    "scrolled": true
   },
   "outputs": [],
   "source": [
    "for decoder_ix, decoder_result in yy.items():\n",
    "    for sample_result, filepath in zip(decoder_result, file_paths):\n",
    "        disp(sample_result, decoder_ix)"
   ]
  },
  {
   "cell_type": "code",
   "execution_count": null,
   "metadata": {},
   "outputs": [],
   "source": []
  }
 ],
 "metadata": {
  "kernelspec": {
   "display_name": "Python 3",
   "language": "python",
   "name": "python3"
  },
  "language_info": {
   "codemirror_mode": {
    "name": "ipython",
    "version": 3
   },
   "file_extension": ".py",
   "mimetype": "text/x-python",
   "name": "python",
   "nbconvert_exporter": "python",
   "pygments_lexer": "ipython3",
   "version": "3.7.6"
  }
 },
 "nbformat": 4,
 "nbformat_minor": 2
}