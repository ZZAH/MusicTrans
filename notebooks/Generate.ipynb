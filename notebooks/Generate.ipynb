{
 "cells": [
  {
   "cell_type": "code",
   "execution_count": 1,
   "metadata": {},
   "outputs": [],
   "source": [
    "from pathlib import Path\n",
    "import librosa\n",
    "import torch\n",
    "from argparse import ArgumentParser\n",
    "import matplotlib\n",
    "import h5py\n",
    "import tqdm\n",
    "from IPython.display import Audio, display\n",
    "import  numpy as np\n",
    "import sklearn\n",
    "\n",
    "import sys\n",
    "sys.path += ['../src']\n",
    "\n",
    "import utils\n",
    "import wavenet_models\n",
    "from utils import save_audio\n",
    "from wavenet import WaveNet\n",
    "from wavenet_generator import WavenetGenerator\n",
    "from nv_wavenet_generator import NVWavenetGenerator"
   ]
  },
  {
   "cell_type": "code",
   "execution_count": 2,
   "metadata": {},
   "outputs": [
    {
     "name": "stdout",
     "output_type": "stream",
     "text": [
      "[WindowsPath('test.wav')]\n",
      "test.wav\n"
     ]
    }
   ],
   "source": [
    "# Inference params\n",
    "checkpoint = Path('../checkpoints/pretrained_musicnet/lastmodel')\n",
    "decoders = [0, 1, 2, 3, 4, 5]\n",
    "batch_size = 1\n",
    "rate = 16000\n",
    "split_size = 20\n",
    "file_paths = [Path('test.wav')]\n",
    "print(file_paths)\n",
    "for file in file_paths:\n",
    "    print(file)"
   ]
  },
  {
   "cell_type": "code",
   "execution_count": 3,
   "metadata": {},
   "outputs": [
    {
     "name": "stdout",
     "output_type": "stream",
     "text": [
      "(800,)\n"
     ]
    }
   ],
   "source": [
    "import librosa.display\n",
    "import matplotlib.pyplot as plt\n",
    "import sys\n",
    "matplotlib.use('agg')\n",
    "file_paths = Path('pinao_1.wav')\n",
    "data, rate = librosa.load(file_paths, sr=1600)\n",
    "start = 12\n",
    "duration = 5\n",
    "stop = start +duration\n",
    "audio_dst = data[start*160:stop*160]\n",
    "print(audio_dst.shape)\n",
    "librosa.display.waveplot(audio_dst, sr=1600)\n",
    "plt.savefig(\"piano.png\")\n"
   ]
  },
  {
   "cell_type": "code",
   "execution_count": 4,
   "metadata": {},
   "outputs": [
    {
     "name": "stdout",
     "output_type": "stream",
     "text": [
      "generated\n",
      "Style0.wav\n",
      "Style0.wavcentroid.png\n",
      "Style1.wav\n",
      "Style1.wavcentroid.png\n",
      "Style2.wav\n",
      "Style2.wavcentroid.png\n",
      "Style3.wav\n",
      "Style3.wavcentroid.png\n",
      "Style4.wav\n",
      "Style4.wavcentroid.png\n",
      "Style5.wav\n",
      "Style5.wavcentroid.png\n"
     ]
    }
   ],
   "source": [
    "import os\n",
    "file_paths = Path('generated/')\n",
    "print(file_paths)\n",
    "for _,_,f in os.walk(file_paths):\n",
    "    continue\n",
    "for file in f:\n",
    "    print(file)"
   ]
  },
  {
   "cell_type": "code",
   "execution_count": null,
   "metadata": {},
   "outputs": [],
   "source": [
    "import librosa.display\n",
    "import matplotlib.pyplot as plt\n",
    "import sys\n",
    "matplotlib.use('agg')\n",
    "file_paths = Path('generated/')\n",
    "for _,_,files in os.walk(file_paths):\n",
    "    continue;\n",
    "for fil in files:\n",
    "    plt.figure(figsize=(20, 11))\n",
    "    plt.title(str(fil)+\"_v2\")\n",
    "    file = (\"generated/\" + str(fil))\n",
    "    print(file)\n",
    "    data, rate = librosa.load(file, sr=1600)\n",
    "    print(data)\n",
    "    start = 0\n",
    "    duration = 5\n",
    "    stop = start +duration\n",
    "    audio_dst = data[start*1600:stop*1600]\n",
    "    print(\"audio_dst\", audio_dst)\n",
    "    print(audio_dst.shape)\n",
    "    #librosa.display.waveplot(audio_dst, sr=1600)\n",
    "    D = librosa.amplitude_to_db(librosa.stft(audio_dst), ref=np.max)\n",
    "    librosa.display.specshow(D, sr=1600, hop_length=32,y_axis='linear')\n",
    "    plt.savefig(str(fil)+\"_v2_32\" +\".png\")"
   ]
  },
  {
   "cell_type": "code",
   "execution_count": null,
   "metadata": {},
   "outputs": [],
   "source": [
    "file_paths = Path('pinao_1.wav')\n",
    "data, rate = librosa.load(file_paths, sr=16000)\n",
    "spectral_centroids = librosa.feature.spectral_centroid(data, sr=16000)[0]\n",
    "spectral_centroids.shape"
   ]
  },
  {
   "cell_type": "code",
   "execution_count": null,
   "metadata": {},
   "outputs": [],
   "source": [
    "# Computing the time variable for visualization\n",
    "plt.figure(figsize=(20, 11))\n",
    "plt.title(\"centroid\")\n",
    "frames = range(len(spectral_centroids))\n",
    "t = librosa.frames_to_time(frames)\n",
    "# Normalising the spectral centroid for visualisation\n",
    "def normalize(data, axis=0):\n",
    "    return sklearn.preprocessing.minmax_scale(data, axis=axis)\n",
    "#Plotting the Spectral Centroid along the waveform\n",
    "librosa.display.waveplot(data, sr=1600, alpha=0.4)\n",
    "plt.plot(frames, normalize(spectral_centroids), color='r')\n",
    "plt.savefig(\"centroid.png\")"
   ]
  },
  {
   "cell_type": "code",
   "execution_count": 31,
   "metadata": {},
   "outputs": [
    {
     "name": "stderr",
     "output_type": "stream",
     "text": [
      "C:\\ProgramData\\Anaconda3\\lib\\site-packages\\ipykernel_launcher.py:8: RuntimeWarning: More than 20 figures have been opened. Figures created through the pyplot interface (`matplotlib.pyplot.figure`) are retained until explicitly closed and may consume too much memory. (To control this warning, see the rcParam `figure.max_open_warning`).\n",
      "  \n"
     ]
    },
    {
     "name": "stdout",
     "output_type": "stream",
     "text": [
      "generated/Style0.wav\n",
      "Style0.wav max: 938.1427034210706\n",
      "Style0.wav min: 511.1460222342584\n",
      "Style0.wav mean: 670.4503462913018\n",
      "generated/Style1.wav\n",
      "Style1.wav max: 790.9176106917707\n",
      "Style1.wav min: 439.58482278564117\n",
      "Style1.wav mean: 611.2720822139703\n",
      "generated/Style2.wav\n",
      "Style2.wav max: 822.2853059001612\n",
      "Style2.wav min: 535.6423309807263\n",
      "Style2.wav mean: 639.373951834678\n",
      "generated/Style3.wav\n",
      "Style3.wav max: 843.3280654985256\n",
      "Style3.wav min: 473.946684650358\n",
      "Style3.wav mean: 665.7035795243297\n",
      "generated/Style4.wav\n",
      "Style4.wav max: 1259.0977362290269\n",
      "Style4.wav min: 555.091303616299\n",
      "Style4.wav mean: 749.2218109323145\n",
      "generated/Style5.wav\n",
      "Style5.wav max: 1765.1386897807101\n",
      "Style5.wav min: 661.3707538762359\n",
      "Style5.wav mean: 1180.2236267976118\n",
      "generated/test.wav\n",
      "test.wav max: 841.4203466634272\n",
      "test.wav min: 470.3790561213863\n",
      "test.wav mean: 643.2941422280328\n"
     ]
    }
   ],
   "source": [
    "import librosa.display\n",
    "import matplotlib.pyplot as plt\n",
    "import sys\n",
    "file_paths = Path('generated/')\n",
    "for _,_,files in os.walk(file_paths):\n",
    "    continue;\n",
    "for fil in files:\n",
    "    plt.figure(figsize=(20, 11))\n",
    "    file = (\"generated/\"+str(fil))\n",
    "    print(file)\n",
    "    data, rate = librosa.load(file, sr=8000)\n",
    "    spectral_centroids = librosa.feature.spectral_centroid(data, sr=8000)[0]\n",
    "    # Computing the time variable for visualization\n",
    "    plt.title(\"centroid\")\n",
    "    frames = range(len(spectral_centroids))\n",
    "    t = librosa.frames_to_time(frames)\n",
    "    # Normalising the spectral centroid for visualisation\n",
    "    def normalize(data, axis=0):\n",
    "        return sklearn.preprocessing.minmax_scale(data, axis=axis)\n",
    "    print(str(fil), \"max:\", spectral_centroids.max())\n",
    "    print(str(fil),\"min:\", spectral_centroids.min())\n",
    "    print(str(fil),\"mean:\", spectral_centroids.mean())\n",
    "    #Plotting the Spectral Centroid along the waveform\n",
    "    #librosa.display.waveplot(data, sr=80, alpha=0.4)\n",
    "    #plt.plot(frames, normalize(spectral_centroids), color='r')\n",
    "    #plt.savefig(str(fil)+\"centroid.png\")"
   ]
  },
  {
   "cell_type": "code",
   "execution_count": null,
   "metadata": {},
   "outputs": [],
   "source": [
    "import numpy as np\n",
    "plt.figure(figsize=(30, 15))\n",
    "matplotlib.use('agg')\n",
    "file_paths = Path('pinao_1.wav')\n",
    "data, rate = librosa.load(file_paths, sr=1600)\n",
    "start = 12\n",
    "duration = 30\n",
    "stop = start +duration\n",
    "audio_dst = data[start*1600:stop*1600]\n",
    "print(audio_dst.shape)\n",
    "D = librosa.amplitude_to_db(librosa.stft(audio_dst), ref=np.max)\n",
    "plt.subplot(4, 2, 1)\n",
    "librosa.display.specshow(D, sr=1600, hop_length=32,y_axis='linear')\n",
    "plt.savefig(\"piano_fimg1600.png\")"
   ]
  },
  {
   "cell_type": "code",
   "execution_count": null,
   "metadata": {},
   "outputs": [],
   "source": [
    "CQT = librosa.amplitude_to_db(librosa.cqt(audio_dst, sr=1600, n_bins = 40), ref=np.max)\n",
    "librosa.display.specshow(CQT, sr=1600, hop_length=32,y_axis='linear')\n",
    "plt.savefig(\"piano_fimg_cqt.png\")"
   ]
  },
  {
   "cell_type": "code",
   "execution_count": null,
   "metadata": {},
   "outputs": [],
   "source": [
    "plt.figure(figsize=(30, 15))\n",
    "matplotlib.use('agg')\n",
    "file_paths = Path('voilins_1.wav')\n",
    "data, rate = librosa.load(file_paths, sr=1600)\n",
    "start = 12\n",
    "duration = 30\n",
    "stop = start +duration\n",
    "audio_dst = data[start*1600:stop*1600]\n",
    "print(audio_dst.shape)\n",
    "D = librosa.amplitude_to_db(librosa.stft(audio_dst), ref=np.max)\n",
    "plt.subplot(4, 2, 1)\n",
    "librosa.display.specshow(D, sr=1600, hop_length=32,y_axis='linear')\n",
    "plt.savefig(\"voilin_fimg1600.png\")"
   ]
  },
  {
   "cell_type": "code",
   "execution_count": null,
   "metadata": {},
   "outputs": [],
   "source": [
    "import numpy as np\n",
    "plt.figure()\n",
    "S = librosa.feature.melspectrogram(y=audio_dst, sr=160)\n",
    "ax = plt.subplot(2,1,2)\n",
    "librosa.display.specshow(librosa.power_to_db(S, ref=np.max),\n",
    "                         x_axis='time', y_axis='mel')\n",
    "plt.subplot(2,1,1, sharex=ax)\n",
    "librosa.display.waveplot(y_beat_times, sr=160, label='Beat clicks')\n",
    "plt.legend()\n",
    "plt.xlim(15, 30)\n",
    "plt.tight_layout()"
   ]
  },
  {
   "cell_type": "code",
   "execution_count": null,
   "metadata": {},
   "outputs": [],
   "source": [
    "from pathlib import Path\n",
    "import matplotlib\n",
    "import matplotlib.pyplot as plt\n",
    "import librosa.display\n",
    "matplotlib.use('TkAgg')\n",
    "file_paths = Path('test.wav')#,Path('./generated/Style1.wav'),Path('./generated/Style2.wav'),]\n",
    "print(file_paths)\n",
    "plt.figure(figsize=(14, 5))\n",
    "data, rate = librosa.load(file_paths, sr=1600)\n",
    "librosa.display.waveplot(data, sr=10)\n",
    "#xs.append(torch.tensor(data).unsqueeze(0).float().cuda())\n",
    "plt.show()"
   ]
  },
  {
   "cell_type": "code",
   "execution_count": null,
   "metadata": {},
   "outputs": [],
   "source": [
    "import librosa.display\n",
    "librosa.display.waveplot(xs, sr=1600)"
   ]
  },
  {
   "cell_type": "code",
   "execution_count": null,
   "metadata": {},
   "outputs": [],
   "source": [
    "def disp(x, decoder_ix):\n",
    "    wav = utils.inv_mu_law(x.cpu().numpy())\n",
    "    print(f'Decoder: {decoder_ix}')\n",
    "    print(f'X min: {x.min()}, max: {x.max()}')\n",
    "\n",
    "    display(Audio(wav.squeeze(), rate=rate))\n",
    "        \n",
    "def extract_id(path):\n",
    "    decoder_id = str(path)[:-4].split('_')[-1]\n",
    "    return int(decoder_id)"
   ]
  },
  {
   "cell_type": "code",
   "execution_count": null,
   "metadata": {},
   "outputs": [],
   "source": [
    "class args:\n",
    "    def __init__(self):\n",
    "        self.latent_d = 64    # 名称\n",
    "        self.repeat_num = 6     # 尺寸\n",
    "        self.encoder_channels = 128     # 列表\n",
    "        self.encoder_blocks= 3\n",
    "        self.encoder_pool =  800,\n",
    "        self.encoder_final_kernel_size =  1\n",
    "        self.encoder_layers =  10\n",
    "        self.encoder_func = 'relu' \n",
    "        self.blocks= 4\n",
    "        self.layers = 14  \n",
    "        self.kernel_size =  2 \n",
    "        self.skip_channels =  128 \n",
    "        self.residual_channels =  128  \n",
    "        self.classes =  256\n",
    "model_args =args() # 定义结构对象"
   ]
  },
  {
   "cell_type": "code",
   "execution_count": null,
   "metadata": {},
   "outputs": [],
   "source": [
    "import torch.nn as nn\n",
    "\n",
    "print('Starting')\n",
    "matplotlib.use('agg')\n",
    "\n",
    "checkpoints = checkpoint.parent.glob(checkpoint.name + '_*.pth')\n",
    "checkpoints = [c for c in checkpoints if extract_id(c) in decoders]\n",
    "assert len(checkpoints) >= 1, \"No checkpoints found.\"\n",
    "\n",
    "print(checkpoint.parent / 'args.pth')\n",
    "#model_args = torch.load(checkpoint.parent / 'args.pth')[0]\n",
    "encoder = wavenet_models.Encoder(model_args)\n",
    "encoder.load_state_dict(torch.load(checkpoints[0])['encoder_state'])\n",
    "encoder.eval()\n",
    "encoder = encoder.cuda()\n",
    "\n",
    "decoders = []\n",
    "decoder_ids = []\n",
    "for checkpoint in checkpoints:\n",
    "    decoder = WaveNet(model_args)\n",
    "    #decoder = nn.DataParallel(decoder)\n",
    "    checkpoint_state = torch.load(checkpoint)['decoder_state']\n",
    "    #pop_list = [\"layers.40.causal.weight\", \"layers.40.causal.bias\", \"layers.40.condition.weight\", \"layers.40.condition.bias\", \"layers.40.residual.weight\", \"layers.40.residual.bias\", \"layers.40.skip.weight\", \"layers.40.skip.bias\", \"layers.41.causal.weight\", \"layers.41.causal.bias\", \"layers.41.condition.weight\", \"layers.41.condition.bias\", \"layers.41.residual.weight\", \"layers.41.residual.bias\", \"layers.41.skip.weight\", \"layers.41.skip.bias\", \"layers.42.causal.weight\", \"layers.42.causal.bias\", \"layers.42.condition.weight\", \"layers.42.condition.bias\", \"layers.42.residual.weight\", \"layers.42.residual.bias\", \"layers.42.skip.weight\", \"layers.42.skip.bias\", \"layers.43.causal.weight\", \"layers.43.causal.bias\", \"layers.43.condition.weight\", \"layers.43.condition.bias\", \"layers.43.residual.weight\", \"layers.43.residual.bias\", \"layers.43.skip.weight\", \"layers.43.skip.bias\", \"layers.44.causal.weight\", \"layers.44.causal.bias\", \"layers.44.condition.weight\", \"layers.44.condition.bias\", \"layers.44.residual.weight\", \"layers.44.residual.bias\", \"layers.44.skip.weight\", \"layers.44.skip.bias\", \"layers.45.causal.weight\", \"layers.45.causal.bias\", \"layers.45.condition.weight\", \"layers.45.condition.bias\", \"layers.45.residual.weight\", \"layers.45.residual.bias\", \"layers.45.skip.weight\", \"layers.45.skip.bias\", \"layers.46.causal.weight\", \"layers.46.causal.bias\", \"layers.46.condition.weight\", \"layers.46.condition.bias\", \"layers.46.residual.weight\", \"layers.46.residual.bias\", \"layers.46.skip.weight\", \"layers.46.skip.bias\", \"layers.47.causal.weight\", \"layers.47.causal.bias\", \"layers.47.condition.weight\", \"layers.47.condition.bias\", \"layers.47.residual.weight\", \"layers.47.residual.bias\", \"layers.47.skip.weight\", \"layers.47.skip.bias\", \"layers.48.causal.weight\", \"layers.48.causal.bias\", \"layers.48.condition.weight\", \"layers.48.condition.bias\", \"layers.48.residual.weight\", \"layers.48.residual.bias\", \"layers.48.skip.weight\", \"layers.48.skip.bias\", \"layers.49.causal.weight\", \"layers.49.causal.bias\", \"layers.49.condition.weight\", \"layers.49.condition.bias\", \"layers.49.residual.weight\", \"layers.49.residual.bias\", \"layers.49.skip.weight\", \"layers.49.skip.bias\", \"layers.50.causal.weight\", \"layers.50.causal.bias\", \"layers.50.condition.weight\", \"layers.50.condition.bias\", \"layers.50.residual.weight\", \"layers.50.residual.bias\", \"layers.50.skip.weight\", \"layers.50.skip.bias\", \"layers.51.causal.weight\", \"layers.51.causal.bias\", \"layers.51.condition.weight\", \"layers.51.condition.bias\", \"layers.51.residual.weight\", \"layers.51.residual.bias\", \"layers.51.skip.weight\", \"layers.51.skip.bias\", \"layers.52.causal.weight\", \"layers.52.causal.bias\", \"layers.52.condition.weight\", \"layers.52.condition.bias\", \"layers.52.residual.weight\", \"layers.52.residual.bias\", \"layers.52.skip.weight\", \"layers.52.skip.bias\", \"layers.53.causal.weight\", \"layers.53.causal.bias\", \"layers.53.condition.weight\", \"layers.53.condition.bias\", \"layers.53.residual.weight\", \"layers.53.residual.bias\", \"layers.53.skip.weight\", \"layers.53.skip.bias\", \"layers.54.causal.weight\", \"layers.54.causal.bias\", \"layers.54.condition.weight\", \"layers.54.condition.bias\", \"layers.54.residual.weight\", \"layers.54.residual.bias\", \"layers.54.skip.weight\", \"layers.54.skip.bias\", \"layers.55.causal.weight\", \"layers.55.causal.bias\", \"layers.55.condition.weight\", \"layers.55.condition.bias\", \"layers.55.residual.weight\", \"layers.55.residual.bias\", \"layers.55.skip.weight\", \"layers.55.skip.bias\"]\n",
    "    #for items in pop_list:\n",
    "      #  checkpoint_state.pop(items)\n",
    "    #checkpoint_state.pop(list([\"layers.40.causal.weight\", \"layers.40.causal.bias\", \"layers.40.condition.weight\", \"layers.40.condition.bias\", \"layers.40.residual.weight\", \"layers.40.residual.bias\", \"layers.40.skip.weight\", \"layers.40.skip.bias\", \"layers.41.causal.weight\", \"layers.41.causal.bias\", \"layers.41.condition.weight\", \"layers.41.condition.bias\", \"layers.41.residual.weight\", \"layers.41.residual.bias\", \"layers.41.skip.weight\", \"layers.41.skip.bias\", \"layers.42.causal.weight\", \"layers.42.causal.bias\", \"layers.42.condition.weight\", \"layers.42.condition.bias\", \"layers.42.residual.weight\", \"layers.42.residual.bias\", \"layers.42.skip.weight\", \"layers.42.skip.bias\", \"layers.43.causal.weight\", \"layers.43.causal.bias\", \"layers.43.condition.weight\", \"layers.43.condition.bias\", \"layers.43.residual.weight\", \"layers.43.residual.bias\", \"layers.43.skip.weight\", \"layers.43.skip.bias\", \"layers.44.causal.weight\", \"layers.44.causal.bias\", \"layers.44.condition.weight\", \"layers.44.condition.bias\", \"layers.44.residual.weight\", \"layers.44.residual.bias\", \"layers.44.skip.weight\", \"layers.44.skip.bias\", \"layers.45.causal.weight\", \"layers.45.causal.bias\", \"layers.45.condition.weight\", \"layers.45.condition.bias\", \"layers.45.residual.weight\", \"layers.45.residual.bias\", \"layers.45.skip.weight\", \"layers.45.skip.bias\", \"layers.46.causal.weight\", \"layers.46.causal.bias\", \"layers.46.condition.weight\", \"layers.46.condition.bias\", \"layers.46.residual.weight\", \"layers.46.residual.bias\", \"layers.46.skip.weight\", \"layers.46.skip.bias\", \"layers.47.causal.weight\", \"layers.47.causal.bias\", \"layers.47.condition.weight\", \"layers.47.condition.bias\", \"layers.47.residual.weight\", \"layers.47.residual.bias\", \"layers.47.skip.weight\", \"layers.47.skip.bias\", \"layers.48.causal.weight\", \"layers.48.causal.bias\", \"layers.48.condition.weight\", \"layers.48.condition.bias\", \"layers.48.residual.weight\", \"layers.48.residual.bias\", \"layers.48.skip.weight\", \"layers.48.skip.bias\", \"layers.49.causal.weight\", \"layers.49.causal.bias\", \"layers.49.condition.weight\", \"layers.49.condition.bias\", \"layers.49.residual.weight\", \"layers.49.residual.bias\", \"layers.49.skip.weight\", \"layers.49.skip.bias\", \"layers.50.causal.weight\", \"layers.50.causal.bias\", \"layers.50.condition.weight\", \"layers.50.condition.bias\", \"layers.50.residual.weight\", \"layers.50.residual.bias\", \"layers.50.skip.weight\", \"layers.50.skip.bias\", \"layers.51.causal.weight\", \"layers.51.causal.bias\", \"layers.51.condition.weight\", \"layers.51.condition.bias\", \"layers.51.residual.weight\", \"layers.51.residual.bias\", \"layers.51.skip.weight\", \"layers.51.skip.bias\", \"layers.52.causal.weight\", \"layers.52.causal.bias\", \"layers.52.condition.weight\", \"layers.52.condition.bias\", \"layers.52.residual.weight\", \"layers.52.residual.bias\", \"layers.52.skip.weight\", \"layers.52.skip.bias\", \"layers.53.causal.weight\", \"layers.53.causal.bias\", \"layers.53.condition.weight\", \"layers.53.condition.bias\", \"layers.53.residual.weight\", \"layers.53.residual.bias\", \"layers.53.skip.weight\", \"layers.53.skip.bias\", \"layers.54.causal.weight\", \"layers.54.causal.bias\", \"layers.54.condition.weight\", \"layers.54.condition.bias\", \"layers.54.residual.weight\", \"layers.54.residual.bias\", \"layers.54.skip.weight\", \"layers.54.skip.bias\", \"layers.55.causal.weight\", \"layers.55.causal.bias\", \"layers.55.condition.weight\", \"layers.55.condition.bias\", \"layers.55.residual.weight\", \"layers.55.residual.bias\", \"layers.55.skip.weight\", \"layers.55.skip.bias\"]))\n",
    "    #decoder.load_state_dict(torch.load(checkpoint)['decoder_state'])\n",
    "    decoder.load_state_dict(checkpoint_state)\n",
    "    decoder.eval()\n",
    "    decoder = decoder.cuda()\n",
    "    decoder = WavenetGenerator(decoder, 1, wav_freq=16000)\n",
    "\n",
    "    decoders += [decoder]\n",
    "    decoder_ids += [extract_id(checkpoint)]"
   ]
  },
  {
   "cell_type": "code",
   "execution_count": null,
   "metadata": {},
   "outputs": [],
   "source": [
    "xs = []\n",
    "file_paths_gen = [Path('test.wav')]\n",
    "for file_path in file_paths:\n",
    "    data, rate = librosa.load(file_path, sr=16000)\n",
    "    assert rate == 16000\n",
    "    data = utils.mu_law(data)\n",
    "    xs.append(torch.tensor(data).unsqueeze(0).float().cuda())\n",
    "\n",
    "xs = torch.stack(xs).contiguous()\n",
    "print(xs)\n",
    "print(f'xs size: {xs.size()}')"
   ]
  },
  {
   "cell_type": "code",
   "execution_count": null,
   "metadata": {},
   "outputs": [],
   "source": [
    "for file_path in file_paths:\n",
    "    data, rate = librosa.load(file_path, sr=16000)\n",
    "    assert rate == 16000\n",
    "    data = utils.mu_law(data)\n",
    "    xs.append(torch.tensor(data).unsqueeze(0).float().cuda())\n",
    "\n",
    "xs = torch.stack(xs).contiguous()\n",
    "print(xs)\n",
    "print(f'xs size: {xs.size()}')"
   ]
  },
  {
   "cell_type": "code",
   "execution_count": null,
   "metadata": {
    "scrolled": true
   },
   "outputs": [],
   "source": [
    "yy = {}\n",
    "with torch.no_grad():\n",
    "    zz = []\n",
    "    for xs_batch in torch.split(xs, batch_size):\n",
    "        zz += [encoder(xs_batch)]\n",
    "    zz = torch.cat(zz, dim=0)\n",
    "\n",
    "    with utils.timeit(\"Generation timer\"):\n",
    "        for i, decoder_id in enumerate(decoder_ids):\n",
    "            yy[decoder_id] = []\n",
    "            decoder = decoders[i]\n",
    "            for zz_batch in torch.split(zz, batch_size):\n",
    "                print(zz_batch.shape)\n",
    "                splits = torch.split(zz_batch, split_size, -1)\n",
    "                audio_data = []\n",
    "                decoder.reset()\n",
    "                for cond in tqdm.tqdm_notebook(splits):\n",
    "                    audio_data += [decoder.generate(cond).cpu()]\n",
    "                audio_data = torch.cat(audio_data, -1)\n",
    "                yy[decoder_id] += [audio_data]\n",
    "            yy[decoder_id] = torch.cat(yy[decoder_id], dim=0)"
   ]
  },
  {
   "cell_type": "code",
   "execution_count": null,
   "metadata": {
    "scrolled": true
   },
   "outputs": [],
   "source": [
    "for decoder_ix, decoder_result in yy.items():\n",
    "    for sample_result, filepath in zip(decoder_result, file_paths):\n",
    "        disp(sample_result, decoder_ix)"
   ]
  },
  {
   "cell_type": "code",
   "execution_count": null,
   "metadata": {},
   "outputs": [],
   "source": []
  }
 ],
 "metadata": {
  "kernelspec": {
   "display_name": "Python 3",
   "language": "python",
   "name": "python3"
  },
  "language_info": {
   "codemirror_mode": {
    "name": "ipython",
    "version": 3
   },
   "file_extension": ".py",
   "mimetype": "text/x-python",
   "name": "python",
   "nbconvert_exporter": "python",
   "pygments_lexer": "ipython3",
   "version": "3.7.6"
  }
 },
 "nbformat": 4,
 "nbformat_minor": 2
}
