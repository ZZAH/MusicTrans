{
 "cells": [
  {
   "cell_type": "code",
   "execution_count": 36,
   "metadata": {},
   "outputs": [],
   "source": [
    "from pathlib import Path\n",
    "import librosa\n",
    "import torch\n",
    "from argparse import ArgumentParser\n",
    "import matplotlib\n",
    "import h5py\n",
    "import tqdm\n",
    "from IPython.display import Audio, display\n",
    "\n",
    "import sys\n",
    "sys.path += ['../src']\n",
    "\n",
    "import utils\n",
    "import wavenet_models\n",
    "from utils import save_audio\n",
    "from wavenet import WaveNet\n",
    "from wavenet_generator import WavenetGenerator\n",
    "from nv_wavenet_generator import NVWavenetGenerator"
   ]
  },
  {
   "cell_type": "code",
   "execution_count": 37,
   "metadata": {},
   "outputs": [
    {
     "name": "stdout",
     "output_type": "stream",
     "text": [
      "[WindowsPath('test.wav')]\n",
      "test.wav\n"
     ]
    }
   ],
   "source": [
    "# Inference params\n",
    "checkpoint = Path('../checkpoints/pretrained_musicnet/lastmodel')\n",
    "decoders = [0, 1, 2, 3, 4, 5]\n",
    "batch_size = 1\n",
    "rate = 16000\n",
    "split_size = 20\n",
    "file_paths = [Path('test.wav')]\n",
    "print(file_paths)\n",
    "for file in file_paths:\n",
    "    print(file)"
   ]
  },
  {
   "cell_type": "code",
   "execution_count": 38,
   "metadata": {},
   "outputs": [],
   "source": [
    "def disp(x, decoder_ix):\n",
    "    wav = utils.inv_mu_law(x.cpu().numpy())\n",
    "    print(f'Decoder: {decoder_ix}')\n",
    "    print(f'X min: {x.min()}, max: {x.max()}')\n",
    "\n",
    "    display(Audio(wav.squeeze(), rate=rate))\n",
    "        \n",
    "def extract_id(path):\n",
    "    decoder_id = str(path)[:-4].split('_')[-1]\n",
    "    return int(decoder_id)"
   ]
  },
  {
   "cell_type": "code",
   "execution_count": 39,
   "metadata": {},
   "outputs": [],
   "source": [
    "class args:\n",
    "    def __init__(self):\n",
    "        self.latent_d = 64    # 名称\n",
    "        self.repeat_num = 6     # 尺寸\n",
    "        self.encoder_channels = 128     # 列表\n",
    "        self.encoder_blocks= 3\n",
    "        self.encoder_pool =  800,\n",
    "        self.encoder_final_kernel_size =  1\n",
    "        self.encoder_layers =  10\n",
    "        self.encoder_func = 'relu' \n",
    "        self.blocks= 4\n",
    "        self.layers = 14  \n",
    "        self.kernel_size =  2 \n",
    "        self.skip_channels =  128 \n",
    "        self.residual_channels =  128  \n",
    "        self.classes =  256\n",
    "model_args =args() # 定义结构对象"
   ]
  },
  {
   "cell_type": "code",
   "execution_count": 40,
   "metadata": {},
   "outputs": [
    {
     "name": "stdout",
     "output_type": "stream",
     "text": [
      "Starting\n",
      "..\\checkpoints\\pretrained_musicnet\\args.pth\n"
     ]
    }
   ],
   "source": [
    "import torch.nn as nn\n",
    "\n",
    "print('Starting')\n",
    "matplotlib.use('agg')\n",
    "\n",
    "checkpoints = checkpoint.parent.glob(checkpoint.name + '_*.pth')\n",
    "checkpoints = [c for c in checkpoints if extract_id(c) in decoders]\n",
    "assert len(checkpoints) >= 1, \"No checkpoints found.\"\n",
    "\n",
    "print(checkpoint.parent / 'args.pth')\n",
    "#model_args = torch.load(checkpoint.parent / 'args.pth')[0]\n",
    "encoder = wavenet_models.Encoder(model_args)\n",
    "encoder.load_state_dict(torch.load(checkpoints[0])['encoder_state'])\n",
    "encoder.eval()\n",
    "encoder = encoder.cuda()\n",
    "\n",
    "decoders = []\n",
    "decoder_ids = []\n",
    "for checkpoint in checkpoints:\n",
    "    decoder = WaveNet(model_args)\n",
    "    #decoder = nn.DataParallel(decoder)\n",
    "    checkpoint_state = torch.load(checkpoint)['decoder_state']\n",
    "    #pop_list = [\"layers.40.causal.weight\", \"layers.40.causal.bias\", \"layers.40.condition.weight\", \"layers.40.condition.bias\", \"layers.40.residual.weight\", \"layers.40.residual.bias\", \"layers.40.skip.weight\", \"layers.40.skip.bias\", \"layers.41.causal.weight\", \"layers.41.causal.bias\", \"layers.41.condition.weight\", \"layers.41.condition.bias\", \"layers.41.residual.weight\", \"layers.41.residual.bias\", \"layers.41.skip.weight\", \"layers.41.skip.bias\", \"layers.42.causal.weight\", \"layers.42.causal.bias\", \"layers.42.condition.weight\", \"layers.42.condition.bias\", \"layers.42.residual.weight\", \"layers.42.residual.bias\", \"layers.42.skip.weight\", \"layers.42.skip.bias\", \"layers.43.causal.weight\", \"layers.43.causal.bias\", \"layers.43.condition.weight\", \"layers.43.condition.bias\", \"layers.43.residual.weight\", \"layers.43.residual.bias\", \"layers.43.skip.weight\", \"layers.43.skip.bias\", \"layers.44.causal.weight\", \"layers.44.causal.bias\", \"layers.44.condition.weight\", \"layers.44.condition.bias\", \"layers.44.residual.weight\", \"layers.44.residual.bias\", \"layers.44.skip.weight\", \"layers.44.skip.bias\", \"layers.45.causal.weight\", \"layers.45.causal.bias\", \"layers.45.condition.weight\", \"layers.45.condition.bias\", \"layers.45.residual.weight\", \"layers.45.residual.bias\", \"layers.45.skip.weight\", \"layers.45.skip.bias\", \"layers.46.causal.weight\", \"layers.46.causal.bias\", \"layers.46.condition.weight\", \"layers.46.condition.bias\", \"layers.46.residual.weight\", \"layers.46.residual.bias\", \"layers.46.skip.weight\", \"layers.46.skip.bias\", \"layers.47.causal.weight\", \"layers.47.causal.bias\", \"layers.47.condition.weight\", \"layers.47.condition.bias\", \"layers.47.residual.weight\", \"layers.47.residual.bias\", \"layers.47.skip.weight\", \"layers.47.skip.bias\", \"layers.48.causal.weight\", \"layers.48.causal.bias\", \"layers.48.condition.weight\", \"layers.48.condition.bias\", \"layers.48.residual.weight\", \"layers.48.residual.bias\", \"layers.48.skip.weight\", \"layers.48.skip.bias\", \"layers.49.causal.weight\", \"layers.49.causal.bias\", \"layers.49.condition.weight\", \"layers.49.condition.bias\", \"layers.49.residual.weight\", \"layers.49.residual.bias\", \"layers.49.skip.weight\", \"layers.49.skip.bias\", \"layers.50.causal.weight\", \"layers.50.causal.bias\", \"layers.50.condition.weight\", \"layers.50.condition.bias\", \"layers.50.residual.weight\", \"layers.50.residual.bias\", \"layers.50.skip.weight\", \"layers.50.skip.bias\", \"layers.51.causal.weight\", \"layers.51.causal.bias\", \"layers.51.condition.weight\", \"layers.51.condition.bias\", \"layers.51.residual.weight\", \"layers.51.residual.bias\", \"layers.51.skip.weight\", \"layers.51.skip.bias\", \"layers.52.causal.weight\", \"layers.52.causal.bias\", \"layers.52.condition.weight\", \"layers.52.condition.bias\", \"layers.52.residual.weight\", \"layers.52.residual.bias\", \"layers.52.skip.weight\", \"layers.52.skip.bias\", \"layers.53.causal.weight\", \"layers.53.causal.bias\", \"layers.53.condition.weight\", \"layers.53.condition.bias\", \"layers.53.residual.weight\", \"layers.53.residual.bias\", \"layers.53.skip.weight\", \"layers.53.skip.bias\", \"layers.54.causal.weight\", \"layers.54.causal.bias\", \"layers.54.condition.weight\", \"layers.54.condition.bias\", \"layers.54.residual.weight\", \"layers.54.residual.bias\", \"layers.54.skip.weight\", \"layers.54.skip.bias\", \"layers.55.causal.weight\", \"layers.55.causal.bias\", \"layers.55.condition.weight\", \"layers.55.condition.bias\", \"layers.55.residual.weight\", \"layers.55.residual.bias\", \"layers.55.skip.weight\", \"layers.55.skip.bias\"]\n",
    "    #for items in pop_list:\n",
    "      #  checkpoint_state.pop(items)\n",
    "    #checkpoint_state.pop(list([\"layers.40.causal.weight\", \"layers.40.causal.bias\", \"layers.40.condition.weight\", \"layers.40.condition.bias\", \"layers.40.residual.weight\", \"layers.40.residual.bias\", \"layers.40.skip.weight\", \"layers.40.skip.bias\", \"layers.41.causal.weight\", \"layers.41.causal.bias\", \"layers.41.condition.weight\", \"layers.41.condition.bias\", \"layers.41.residual.weight\", \"layers.41.residual.bias\", \"layers.41.skip.weight\", \"layers.41.skip.bias\", \"layers.42.causal.weight\", \"layers.42.causal.bias\", \"layers.42.condition.weight\", \"layers.42.condition.bias\", \"layers.42.residual.weight\", \"layers.42.residual.bias\", \"layers.42.skip.weight\", \"layers.42.skip.bias\", \"layers.43.causal.weight\", \"layers.43.causal.bias\", \"layers.43.condition.weight\", \"layers.43.condition.bias\", \"layers.43.residual.weight\", \"layers.43.residual.bias\", \"layers.43.skip.weight\", \"layers.43.skip.bias\", \"layers.44.causal.weight\", \"layers.44.causal.bias\", \"layers.44.condition.weight\", \"layers.44.condition.bias\", \"layers.44.residual.weight\", \"layers.44.residual.bias\", \"layers.44.skip.weight\", \"layers.44.skip.bias\", \"layers.45.causal.weight\", \"layers.45.causal.bias\", \"layers.45.condition.weight\", \"layers.45.condition.bias\", \"layers.45.residual.weight\", \"layers.45.residual.bias\", \"layers.45.skip.weight\", \"layers.45.skip.bias\", \"layers.46.causal.weight\", \"layers.46.causal.bias\", \"layers.46.condition.weight\", \"layers.46.condition.bias\", \"layers.46.residual.weight\", \"layers.46.residual.bias\", \"layers.46.skip.weight\", \"layers.46.skip.bias\", \"layers.47.causal.weight\", \"layers.47.causal.bias\", \"layers.47.condition.weight\", \"layers.47.condition.bias\", \"layers.47.residual.weight\", \"layers.47.residual.bias\", \"layers.47.skip.weight\", \"layers.47.skip.bias\", \"layers.48.causal.weight\", \"layers.48.causal.bias\", \"layers.48.condition.weight\", \"layers.48.condition.bias\", \"layers.48.residual.weight\", \"layers.48.residual.bias\", \"layers.48.skip.weight\", \"layers.48.skip.bias\", \"layers.49.causal.weight\", \"layers.49.causal.bias\", \"layers.49.condition.weight\", \"layers.49.condition.bias\", \"layers.49.residual.weight\", \"layers.49.residual.bias\", \"layers.49.skip.weight\", \"layers.49.skip.bias\", \"layers.50.causal.weight\", \"layers.50.causal.bias\", \"layers.50.condition.weight\", \"layers.50.condition.bias\", \"layers.50.residual.weight\", \"layers.50.residual.bias\", \"layers.50.skip.weight\", \"layers.50.skip.bias\", \"layers.51.causal.weight\", \"layers.51.causal.bias\", \"layers.51.condition.weight\", \"layers.51.condition.bias\", \"layers.51.residual.weight\", \"layers.51.residual.bias\", \"layers.51.skip.weight\", \"layers.51.skip.bias\", \"layers.52.causal.weight\", \"layers.52.causal.bias\", \"layers.52.condition.weight\", \"layers.52.condition.bias\", \"layers.52.residual.weight\", \"layers.52.residual.bias\", \"layers.52.skip.weight\", \"layers.52.skip.bias\", \"layers.53.causal.weight\", \"layers.53.causal.bias\", \"layers.53.condition.weight\", \"layers.53.condition.bias\", \"layers.53.residual.weight\", \"layers.53.residual.bias\", \"layers.53.skip.weight\", \"layers.53.skip.bias\", \"layers.54.causal.weight\", \"layers.54.causal.bias\", \"layers.54.condition.weight\", \"layers.54.condition.bias\", \"layers.54.residual.weight\", \"layers.54.residual.bias\", \"layers.54.skip.weight\", \"layers.54.skip.bias\", \"layers.55.causal.weight\", \"layers.55.causal.bias\", \"layers.55.condition.weight\", \"layers.55.condition.bias\", \"layers.55.residual.weight\", \"layers.55.residual.bias\", \"layers.55.skip.weight\", \"layers.55.skip.bias\"]))\n",
    "    #decoder.load_state_dict(torch.load(checkpoint)['decoder_state'])\n",
    "    decoder.load_state_dict(checkpoint_state)\n",
    "    decoder.eval()\n",
    "    decoder = decoder.cuda()\n",
    "    decoder = WavenetGenerator(decoder, 1, wav_freq=16000)\n",
    "\n",
    "    decoders += [decoder]\n",
    "    decoder_ids += [extract_id(checkpoint)]"
   ]
  },
  {
   "cell_type": "code",
   "execution_count": 41,
   "metadata": {},
   "outputs": [
    {
     "name": "stdout",
     "output_type": "stream",
     "text": [
      "tensor([[[100., 102., 101.,  ..., 129., 129., 131.]]], device='cuda:0')\n",
      "xs size: torch.Size([1, 1, 80000])\n"
     ]
    }
   ],
   "source": [
    "xs = []\n",
    "file_paths_gen = [Path('test.wav')]\n",
    "for file_path in file_paths:\n",
    "    data, rate = librosa.load(file_path, sr=16000)\n",
    "    assert rate == 16000\n",
    "    data = utils.mu_law(data)\n",
    "    xs.append(torch.tensor(data).unsqueeze(0).float().cuda())\n",
    "\n",
    "xs = torch.stack(xs).contiguous()\n",
    "print(xs)\n",
    "print(f'xs size: {xs.size()}')"
   ]
  },
  {
   "cell_type": "code",
   "execution_count": 42,
   "metadata": {},
   "outputs": [
    {
     "name": "stdout",
     "output_type": "stream",
     "text": [
      "[100 102 101 ... 129 129 131]\n",
      "xs size: torch.Size([1, 1, 80000])\n"
     ]
    }
   ],
   "source": [
    "xs = []\n",
    "\n",
    "for file_path in file_paths:\n",
    "    data, rate = librosa.load(file_path, sr=16000)\n",
    "    assert rate == 16000\n",
    "    data = utils.mu_law(data)\n",
    "    print(data)\n",
    "    xs.append(torch.tensor(data).unsqueeze(0).float().cuda())\n",
    "\n",
    "xs = torch.stack(xs).contiguous()\n",
    "print(f'xs size: {xs.size()}')"
   ]
  },
  {
   "cell_type": "code",
   "execution_count": null,
   "metadata": {
    "scrolled": true
   },
   "outputs": [
    {
     "name": "stdout",
     "output_type": "stream",
     "text": [
      "torch.Size([1, 64, 100])\n"
     ]
    },
    {
     "name": "stderr",
     "output_type": "stream",
     "text": [
      "C:\\ProgramData\\Anaconda3\\lib\\site-packages\\ipykernel_launcher.py:17: TqdmDeprecationWarning: This function will be removed in tqdm==5.0.0\n",
      "Please use `tqdm.notebook.tqdm` instead of `tqdm.tqdm_notebook`\n"
     ]
    },
    {
     "data": {
      "application/vnd.jupyter.widget-view+json": {
       "model_id": "b17b30522cf844508c927d6374572c55",
       "version_major": 2,
       "version_minor": 0
      },
      "text/plain": [
       "HBox(children=(FloatProgress(value=0.0, max=5.0), HTML(value='')))"
      ]
     },
     "metadata": {},
     "output_type": "display_data"
    },
    {
     "name": "stderr",
     "output_type": "stream",
     "text": [
      "\n",
      "\n",
      "Generating:   0%|                                                                               | 0/20 [00:00<?, ?it/s]\u001B[A\u001B[A\n",
      "\n",
      "Generating:   5%|███▌                                                                   | 1/20 [00:18<05:56, 18.75s/it]\u001B[A\u001B[A\n",
      "\n",
      "Generating:  10%|███████                                                                | 2/20 [00:39<05:45, 19.22s/it]\u001B[A\u001B[A\n",
      "\n",
      "Generating:  15%|██████████▋                                                            | 3/20 [00:59<05:33, 19.64s/it]\u001B[A\u001B[A\n",
      "\n",
      "Generating:  20%|██████████████▏                                                        | 4/20 [01:20<05:20, 20.00s/it]\u001B[A\u001B[A\n",
      "\n",
      "Generating:  25%|█████████████████▊                                                     | 5/20 [01:41<05:04, 20.27s/it]\u001B[A\u001B[A\n",
      "\n",
      "Generating:  30%|█████████████████████▎                                                 | 6/20 [02:01<04:44, 20.35s/it]\u001B[A\u001B[A\n",
      "\n",
      "Generating:  35%|████████████████████████▊                                              | 7/20 [02:23<04:28, 20.66s/it]\u001B[A\u001B[A\n",
      "\n",
      "Generating:  40%|████████████████████████████▍                                          | 8/20 [02:44<04:10, 20.91s/it]\u001B[A\u001B[A\n",
      "\n",
      "Generating:  45%|███████████████████████████████▉                                       | 9/20 [03:06<03:50, 21.00s/it]\u001B[A\u001B[A\n",
      "\n",
      "Generating:  50%|███████████████████████████████████                                   | 10/20 [03:27<03:30, 21.01s/it]\u001B[A\u001B[A\n",
      "\n",
      "Generating:  55%|██████████████████████████████████████▌                               | 11/20 [03:48<03:11, 21.28s/it]\u001B[A\u001B[A\n",
      "\n",
      "Generating:  60%|██████████████████████████████████████████                            | 12/20 [04:12<02:54, 21.82s/it]\u001B[A\u001B[A\n",
      "\n",
      "Generating:  65%|█████████████████████████████████████████████▌                        | 13/20 [04:35<02:35, 22.23s/it]\u001B[A\u001B[A\n",
      "\n",
      "Generating:  70%|█████████████████████████████████████████████████                     | 14/20 [04:57<02:14, 22.34s/it]\u001B[A\u001B[A\n",
      "\n",
      "Generating:  75%|████████████████████████████████████████████████████▌                 | 15/20 [05:20<01:52, 22.41s/it]\u001B[A\u001B[A\n",
      "\n",
      "Generating:  80%|████████████████████████████████████████████████████████              | 16/20 [05:42<01:28, 22.24s/it]\u001B[A\u001B[A\n",
      "\n",
      "Generating:  85%|███████████████████████████████████████████████████████████▌          | 17/20 [06:05<01:07, 22.45s/it]\u001B[A\u001B[A\n",
      "\n",
      "Generating:  90%|███████████████████████████████████████████████████████████████       | 18/20 [06:28<00:45, 22.71s/it]\u001B[A\u001B[A\n",
      "\n",
      "Generating:  95%|██████████████████████████████████████████████████████████████████▌   | 19/20 [06:52<00:23, 23.18s/it]\u001B[A\u001B[A\n",
      "\n",
      "Generating: 100%|██████████████████████████████████████████████████████████████████████| 20/20 [07:15<00:00, 21.79s/it]\u001B[A\u001B[A\n",
      "\n",
      "\n",
      "Generating:   0%|                                                                               | 0/20 [00:00<?, ?it/s]\u001B[A\u001B[A\n",
      "\n",
      "Generating:   5%|███▌                                                                   | 1/20 [00:21<06:39, 21.05s/it]\u001B[A\u001B[A\n",
      "\n",
      "Generating:  10%|███████                                                                | 2/20 [00:42<06:19, 21.07s/it]\u001B[A\u001B[A\n",
      "\n",
      "Generating:  15%|██████████▋                                                            | 3/20 [01:03<06:01, 21.25s/it]\u001B[A\u001B[A\n",
      "\n",
      "Generating:  20%|██████████████▏                                                        | 4/20 [01:25<05:40, 21.28s/it]\u001B[A\u001B[A\n",
      "\n",
      "Generating:  25%|█████████████████▊                                                     | 5/20 [01:45<05:13, 20.91s/it]\u001B[A\u001B[A\n",
      "\n",
      "Generating:  30%|█████████████████████▎                                                 | 6/20 [02:05<04:49, 20.68s/it]\u001B[A\u001B[A\n",
      "\n",
      "Generating:  35%|████████████████████████▊                                              | 7/20 [02:25<04:27, 20.59s/it]\u001B[A\u001B[A\n",
      "\n",
      "Generating:  40%|████████████████████████████▍                                          | 8/20 [02:46<04:06, 20.51s/it]\u001B[A\u001B[A\n",
      "\n",
      "Generating:  45%|███████████████████████████████▉                                       | 9/20 [03:06<03:45, 20.49s/it]\u001B[A\u001B[A\n",
      "\n",
      "Generating:  50%|███████████████████████████████████                                   | 10/20 [03:26<03:24, 20.42s/it]\u001B[A\u001B[A\n",
      "\n",
      "Generating:  55%|██████████████████████████████████████▌                               | 11/20 [03:47<03:04, 20.50s/it]\u001B[A\u001B[A\n",
      "\n",
      "Generating:  60%|██████████████████████████████████████████                            | 12/20 [04:08<02:46, 20.80s/it]\u001B[A\u001B[A\n",
      "\n",
      "Generating:  65%|█████████████████████████████████████████████▌                        | 13/20 [04:33<02:33, 21.97s/it]\u001B[A\u001B[A\n",
      "\n",
      "Generating:  70%|█████████████████████████████████████████████████                     | 14/20 [04:58<02:16, 22.79s/it]\u001B[A\u001B[A\n",
      "\n",
      "Generating:  75%|████████████████████████████████████████████████████▌                 | 15/20 [05:20<01:52, 22.55s/it]\u001B[A\u001B[A\n",
      "\n",
      "Generating:  80%|████████████████████████████████████████████████████████              | 16/20 [05:41<01:28, 22.25s/it]\u001B[A\u001B[A\n",
      "\n",
      "Generating:  85%|███████████████████████████████████████████████████████████▌          | 17/20 [06:03<01:06, 22.03s/it]\u001B[A\u001B[A\n",
      "\n",
      "Generating:  90%|███████████████████████████████████████████████████████████████       | 18/20 [06:25<00:43, 21.97s/it]\u001B[A\u001B[A\n",
      "\n",
      "Generating:  95%|██████████████████████████████████████████████████████████████████▌   | 19/20 [06:46<00:21, 21.83s/it]\u001B[A\u001B[A\n",
      "\n",
      "Generating: 100%|██████████████████████████████████████████████████████████████████████| 20/20 [07:07<00:00, 21.39s/it]\u001B[A\u001B[A\n",
      "\n",
      "\n",
      "Generating:   0%|                                                                               | 0/20 [00:00<?, ?it/s]\u001B[A\u001B[A"
     ]
    },
    {
     "name": "stdout",
     "output_type": "stream",
     "text": [
      "torch.Size([1, 1, 16000])\n"
     ]
    },
    {
     "name": "stderr",
     "output_type": "stream",
     "text": [
      "\n",
      "\n",
      "Generating:   5%|███▌                                                                   | 1/20 [00:20<06:35, 20.84s/it]\u001B[A\u001B[A\n",
      "\n",
      "Generating:  10%|███████                                                                | 2/20 [00:41<06:15, 20.84s/it]\u001B[A\u001B[A\n",
      "\n",
      "Generating:  15%|██████████▋                                                            | 3/20 [01:03<06:00, 21.20s/it]\u001B[A\u001B[A\n",
      "\n",
      "Generating:  20%|██████████████▏                                                        | 4/20 [01:24<05:39, 21.21s/it]\u001B[A\u001B[A\n",
      "\n",
      "Generating:  25%|█████████████████▊                                                     | 5/20 [01:45<05:14, 20.95s/it]\u001B[A\u001B[A\n",
      "\n",
      "Generating:  30%|█████████████████████▎                                                 | 6/20 [02:07<04:57, 21.25s/it]\u001B[A\u001B[A\n",
      "\n",
      "Generating:  35%|████████████████████████▊                                              | 7/20 [02:27<04:32, 20.99s/it]\u001B[A\u001B[A\n",
      "\n",
      "Generating:  40%|████████████████████████████▍                                          | 8/20 [02:48<04:10, 20.87s/it]\u001B[A\u001B[A\n",
      "\n",
      "Generating:  45%|███████████████████████████████▉                                       | 9/20 [03:08<03:47, 20.72s/it]\u001B[A\u001B[A\n",
      "\n",
      "Generating:  50%|███████████████████████████████████                                   | 10/20 [03:28<03:25, 20.60s/it]\u001B[A\u001B[A\n",
      "\n",
      "Generating:  55%|██████████████████████████████████████▌                               | 11/20 [03:49<03:05, 20.60s/it]\u001B[A\u001B[A\n",
      "\n",
      "Generating:  60%|██████████████████████████████████████████                            | 12/20 [04:10<02:45, 20.73s/it]\u001B[A\u001B[A\n",
      "\n",
      "Generating:  65%|█████████████████████████████████████████████▌                        | 13/20 [04:31<02:24, 20.70s/it]\u001B[A\u001B[A\n",
      "\n",
      "Generating:  70%|█████████████████████████████████████████████████                     | 14/20 [04:52<02:04, 20.74s/it]\u001B[A\u001B[A\n",
      "\n",
      "Generating:  75%|████████████████████████████████████████████████████▌                 | 15/20 [05:13<01:44, 20.82s/it]\u001B[A\u001B[A\n",
      "\n",
      "Generating:  80%|████████████████████████████████████████████████████████              | 16/20 [05:34<01:23, 20.94s/it]\u001B[A\u001B[A\n",
      "\n",
      "Generating:  85%|███████████████████████████████████████████████████████████▌          | 17/20 [05:55<01:03, 21.12s/it]\u001B[A\u001B[A\n",
      "\n",
      "Generating:  90%|███████████████████████████████████████████████████████████████       | 18/20 [06:17<00:42, 21.30s/it]\u001B[A\u001B[A\n",
      "\n",
      "Generating:  95%|██████████████████████████████████████████████████████████████████▌   | 19/20 [06:39<00:21, 21.48s/it]\u001B[A\u001B[A\n",
      "\n",
      "Generating: 100%|██████████████████████████████████████████████████████████████████████| 20/20 [07:00<00:00, 21.01s/it]\u001B[A\u001B[A\n",
      "\n",
      "\n",
      "Generating:   0%|                                                                               | 0/20 [00:00<?, ?it/s]\u001B[A\u001B[A\n",
      "\n",
      "Generating:   5%|███▌                                                                   | 1/20 [00:19<06:13, 19.65s/it]\u001B[A\u001B[A\n",
      "\n",
      "Generating:  10%|███████                                                                | 2/20 [00:39<05:54, 19.71s/it]\u001B[A\u001B[A\n",
      "\n",
      "Generating:  15%|██████████▋                                                            | 3/20 [01:00<05:41, 20.06s/it]\u001B[A\u001B[A\n",
      "\n",
      "Generating:  20%|██████████████▏                                                        | 4/20 [01:20<05:23, 20.21s/it]\u001B[A\u001B[A\n",
      "\n",
      "Generating:  25%|█████████████████▊                                                     | 5/20 [01:42<05:08, 20.54s/it]\u001B[A\u001B[A\n",
      "\n",
      "Generating:  30%|█████████████████████▎                                                 | 6/20 [02:04<04:54, 21.04s/it]\u001B[A\u001B[A"
     ]
    }
   ],
   "source": [
    "yy = {}\n",
    "with torch.no_grad():\n",
    "    zz = []\n",
    "    for xs_batch in torch.split(xs, batch_size):\n",
    "        zz += [encoder(xs_batch)]\n",
    "    zz = torch.cat(zz, dim=0)\n",
    "\n",
    "    with utils.timeit(\"Generation timer\"):\n",
    "        for i, decoder_id in enumerate(decoder_ids):\n",
    "            yy[decoder_id] = []\n",
    "            decoder = decoders[i]\n",
    "            for zz_batch in torch.split(zz, batch_size):\n",
    "                print(zz_batch.shape)\n",
    "                splits = torch.split(zz_batch, split_size, -1)\n",
    "                audio_data = []\n",
    "                decoder.reset()\n",
    "                for cond in tqdm.tqdm_notebook(splits):\n",
    "                    audio_data += [decoder.generate(cond).cuda()]\n",
    "                    print(decoder.generate(cond).cuda().shape)\n",
    "                audio_data = torch.cat(audio_data, -1)\n",
    "                yy[decoder_id] += [audio_data]\n",
    "                \n",
    "            yy[decoder_id] = torch.cat(yy[decoder_id], dim=0)"
   ]
  },
  {
   "cell_type": "code",
   "execution_count": 35,
   "metadata": {
    "scrolled": true
   },
   "outputs": [],
   "source": [
    "for decoder_ix, decoder_result in yy.items():\n",
    "    for sample_result, filepath in zip(decoder_result, file_paths):\n",
    "        disp(sample_result, decoder_ix)"
   ]
  },
  {
   "cell_type": "code",
   "execution_count": null,
   "metadata": {},
   "outputs": [],
   "source": []
  }
 ],
 "metadata": {
  "kernelspec": {
   "display_name": "Python 3",
   "language": "python",
   "name": "python3"
  },
  "language_info": {
   "codemirror_mode": {
    "name": "ipython",
    "version": 3
   },
   "file_extension": ".py",
   "mimetype": "text/x-python",
   "name": "python",
   "nbconvert_exporter": "python",
   "pygments_lexer": "ipython3",
   "version": "3.7.6"
  }
 },
 "nbformat": 4,
 "nbformat_minor": 2
}